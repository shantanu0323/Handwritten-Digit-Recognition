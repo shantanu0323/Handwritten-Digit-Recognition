{
 "cells": [
  {
   "cell_type": "code",
   "execution_count": 1,
   "metadata": {},
   "outputs": [],
   "source": [
    "import numpy as np\n",
    "import matplotlib.pyplot as pt\n",
    "import pandas as pd\n",
    "from sklearn.neural_network import MLPClassifier\n",
    "from sklearn.neighbors import KNeighborsClassifier\n",
    "from sklearn.svm import SVC\n",
    "from sklearn.gaussian_process import GaussianProcessClassifier\n",
    "from sklearn.gaussian_process.kernels import RBF\n",
    "from sklearn.tree import DecisionTreeClassifier\n",
    "from sklearn.ensemble import RandomForestClassifier, AdaBoostClassifier\n",
    "from sklearn.naive_bayes import GaussianNB\n",
    "from sklearn.discriminant_analysis import QuadraticDiscriminantAnalysis\n",
    "from sklearn.metrics import accuracy_score\n",
    "from time import time"
   ]
  },
  {
   "cell_type": "code",
   "execution_count": 2,
   "metadata": {},
   "outputs": [],
   "source": [
    "classifiersNames = [\n",
    "    \"MLP classifier :\",\n",
    "    \"K Nearest Neighbour Classifier :\",\n",
    "    \"SVC :\",\n",
    "    \"DecisionTreeClassifier :\",\n",
    "    \"RandomForestClassifier :\",\n",
    "    \"AdaBoostClassifier :\",\n",
    "    \"GaussianNB :\"\n",
    "]\n",
    "\n",
    "classifiers = [\n",
    "    MLPClassifier(),\n",
    "    KNeighborsClassifier(),\n",
    "    SVC(),\n",
    "    DecisionTreeClassifier(),\n",
    "    RandomForestClassifier(),\n",
    "    AdaBoostClassifier(),\n",
    "    GaussianNB()\n",
    "]"
   ]
  },
  {
   "cell_type": "code",
   "execution_count": 3,
   "metadata": {},
   "outputs": [
    {
     "name": "stdout",
     "output_type": "stream",
     "text": [
      "Time taken to split data into training and testing data : 9.21900010109 s\n"
     ]
    }
   ],
   "source": [
    "# Training data\n",
    "t0 = time()\n",
    "train_data = pd.read_csv(\"train.csv\").as_matrix()\n",
    "xtrain = train_data[0:21000, 1:]\n",
    "train_label = train_data[0:21000, 0]\n",
    "\n",
    "# Testing data\n",
    "test_data = pd.read_csv(\"test.csv\").as_matrix()\n",
    "xtest = train_data[21000:, 1:]\n",
    "actual_label = train_data[21000:, 0]\n",
    "print (\"Time taken to split data into training and testing data : \" + str(time() - t0) + \" s\")"
   ]
  },
  {
   "cell_type": "code",
   "execution_count": 4,
   "metadata": {},
   "outputs": [],
   "source": [
    "acc_scores = []\n",
    "train_times = []\n",
    "pred_times = []"
   ]
  },
  {
   "cell_type": "code",
   "execution_count": 5,
   "metadata": {},
   "outputs": [
    {
     "name": "stdout",
     "output_type": "stream",
     "text": [
      "MLP classifier :\n",
      "\tTime Taken to train model : 29.8009998798 s\n",
      "\tTime Taken to predict from model : 0.351999998093 s\n",
      "\tAccuracy : 93.55238095238096 %\n",
      "K Nearest Neighbour Classifier :\n",
      "\tTime Taken to train model : 3.01999998093 s\n",
      "\tTime Taken to predict from model : 782.357000113 s\n",
      "\tAccuracy : 95.95238095238095 %\n",
      "SVC :\n",
      "\tTime Taken to train model : 915.953999996 s\n",
      "\tTime Taken to predict from model : 447.877000093 s\n",
      "\tAccuracy : 11.00952380952381 %\n",
      "DecisionTreeClassifier :\n",
      "\tTime Taken to train model : 7.69799995422 s\n",
      "\tTime Taken to predict from model : 0.0889999866486 s\n",
      "\tAccuracy : 83.57619047619048 %\n",
      "RandomForestClassifier :\n",
      "\tTime Taken to train model : 1.81799983978 s\n",
      "\tTime Taken to predict from model : 0.177000045776 s\n",
      "\tAccuracy : 92.93809523809524 %\n",
      "AdaBoostClassifier :\n",
      "\tTime Taken to train model : 20.4769999981 s\n",
      "\tTime Taken to predict from model : 2.02399992943 s\n",
      "\tAccuracy : 69.44285714285714 %\n",
      "GaussianNB :\n",
      "\tTime Taken to train model : 0.616999864578 s\n",
      "\tTime Taken to predict from model : 2.90199995041 s\n",
      "\tAccuracy : 55.99047619047619 %\n"
     ]
    }
   ],
   "source": [
    "for clf in classifiers:\n",
    "    \n",
    "    print (classifiersNames[classifiers.index(clf)])\n",
    "       \n",
    "    t0 = time()\n",
    "    clf.fit(xtrain, train_label)\n",
    "    train_time = time() - t0\n",
    "    train_times.append(train_time)\n",
    "    print (\"\\tTime Taken to train model : \" + str(train_time) + \" s\")\n",
    "\n",
    "    # index = 85\n",
    "    # d = xtest[index]\n",
    "    # d.shape = (28, 28)\n",
    "    # pt.imshow(255 - d, cmap='gray')\n",
    "    # print(clf.predict([xtest[index]]))\n",
    "    # pt.show()\n",
    "\n",
    "    t0 = time()\n",
    "    pred_label = clf.predict(xtest)\n",
    "    pred_time = time() - t0\n",
    "    pred_times.append(pred_time)\n",
    "    print (\"\\tTime Taken to predict from model : \" + str(pred_time) + \" s\")\n",
    "    \n",
    "    score = accuracy_score(actual_label, pred_label)\n",
    "    score = score * 100\n",
    "    print(\"\\tAccuracy : \" + str(score) + \" %\")\n",
    "    acc_scores.append(score)"
   ]
  },
  {
   "cell_type": "code",
   "execution_count": 6,
   "metadata": {},
   "outputs": [
    {
     "data": {
      "text/plain": [
       "[93.55238095238096,\n",
       " 95.95238095238095,\n",
       " 11.00952380952381,\n",
       " 83.57619047619048,\n",
       " 92.93809523809524,\n",
       " 69.44285714285714,\n",
       " 55.99047619047619]"
      ]
     },
     "execution_count": 6,
     "metadata": {},
     "output_type": "execute_result"
    }
   ],
   "source": [
    "acc_scores"
   ]
  },
  {
   "cell_type": "code",
   "execution_count": 7,
   "metadata": {},
   "outputs": [
    {
     "data": {
      "text/plain": [
       "[0.35199999809265137,\n",
       " 782.3570001125336,\n",
       " 447.8770000934601,\n",
       " 0.08899998664855957,\n",
       " 0.1770000457763672,\n",
       " 2.0239999294281006,\n",
       " 2.9019999504089355]"
      ]
     },
     "execution_count": 7,
     "metadata": {},
     "output_type": "execute_result"
    }
   ],
   "source": [
    "pred_times"
   ]
  },
  {
   "cell_type": "code",
   "execution_count": 8,
   "metadata": {},
   "outputs": [
    {
     "data": {
      "text/plain": [
       "[29.800999879837036,\n",
       " 3.0199999809265137,\n",
       " 915.9539999961853,\n",
       " 7.697999954223633,\n",
       " 1.8179998397827148,\n",
       " 20.47699999809265,\n",
       " 0.6169998645782471]"
      ]
     },
     "execution_count": 8,
     "metadata": {},
     "output_type": "execute_result"
    }
   ],
   "source": [
    "train_times"
   ]
  },
  {
   "cell_type": "code",
   "execution_count": null,
   "metadata": {},
   "outputs": [],
   "source": []
  }
 ],
 "metadata": {
  "kernelspec": {
   "display_name": "Python 2",
   "language": "python",
   "name": "python2"
  },
  "language_info": {
   "codemirror_mode": {
    "name": "ipython",
    "version": 2
   },
   "file_extension": ".py",
   "mimetype": "text/x-python",
   "name": "python",
   "nbconvert_exporter": "python",
   "pygments_lexer": "ipython2",
   "version": "2.7.14"
  }
 },
 "nbformat": 4,
 "nbformat_minor": 2
}
