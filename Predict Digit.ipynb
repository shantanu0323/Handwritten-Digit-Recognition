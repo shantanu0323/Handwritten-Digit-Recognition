{
 "cells": [
  {
   "cell_type": "code",
   "execution_count": 115,
   "metadata": {},
   "outputs": [],
   "source": [
    "import numpy\n",
    "import PIL\n",
    "from PIL import Image\n",
    "import matplotlib.image as mpimg"
   ]
  },
  {
   "cell_type": "code",
   "execution_count": 122,
   "metadata": {},
   "outputs": [],
   "source": [
    "def generatePixelsArray (imgSrc, clf):\n",
    "    \n",
    "    img = mpimg.imread(imgSrc)\n",
    "    imgplot = plt.imshow(img)\n",
    "    plt.show()\n",
    "#     Image.open(imgSrc).show()\n",
    "    img = Image.open(imgSrc).convert(\"L\")\n",
    "    imgarr = numpy.array(img)\n",
    "    imgPixels = []\n",
    "    for i in range(0,28):\n",
    "        for j in range(0,28):\n",
    "            imgPixels.append(imgarr[i][j])\n",
    "    t0 = time()\n",
    "    pred_label = clf.predict([imgPixels])\n",
    "    pred_time = time() - t0\n",
    "    print (\"The image is probably a \" + str(pred_label[0]))\n",
    "    print (\"Time Taken to predict from model : \" + str(pred_time) + \" s\")"
   ]
  },
  {
   "cell_type": "code",
   "execution_count": 52,
   "metadata": {},
   "outputs": [],
   "source": [
    "img = Image.open(\"img1.png\").convert(\"L\")\n",
    "imgarr = numpy.array(img)"
   ]
  },
  {
   "cell_type": "code",
   "execution_count": 53,
   "metadata": {},
   "outputs": [
    {
     "data": {
      "text/plain": [
       "(28, 28)"
      ]
     },
     "execution_count": 53,
     "metadata": {},
     "output_type": "execute_result"
    }
   ],
   "source": [
    "imgarr.shape"
   ]
  },
  {
   "cell_type": "code",
   "execution_count": 58,
   "metadata": {},
   "outputs": [],
   "source": [
    "from sklearn.neural_network import MLPClassifier\n",
    "from time import time"
   ]
  },
  {
   "cell_type": "code",
   "execution_count": 59,
   "metadata": {},
   "outputs": [],
   "source": [
    "clf = MLPClassifier()"
   ]
  },
  {
   "cell_type": "code",
   "execution_count": 60,
   "metadata": {},
   "outputs": [
    {
     "name": "stdout",
     "output_type": "stream",
     "text": [
      "Time taken to split data into training and testing data : 23.3109998703 s\n"
     ]
    }
   ],
   "source": [
    "# Training data\n",
    "t0 = time()\n",
    "train_data = pd.read_csv(\"train.csv\").as_matrix()\n",
    "xtrain = train_data[0:21000, 1:]\n",
    "train_label = train_data[0:21000, 0]\n",
    "\n",
    "# Testing data\n",
    "test_data = pd.read_csv(\"test.csv\").as_matrix()\n",
    "xtest = train_data[21000:, 1:]\n",
    "actual_label = train_data[21000:, 0]\n",
    "print (\"Time taken to split data into training and testing data : \" + str(time() - t0) + \" s\")"
   ]
  },
  {
   "cell_type": "code",
   "execution_count": 61,
   "metadata": {},
   "outputs": [
    {
     "name": "stdout",
     "output_type": "stream",
     "text": [
      "\tTime Taken to train model : 24.9500000477 s\n"
     ]
    }
   ],
   "source": [
    "t0 = time()\n",
    "clf.fit(xtrain, train_label)\n",
    "train_time = time() - t0\n",
    "print (\"\\tTime Taken to train model : \" + str(train_time) + \" s\")"
   ]
  },
  {
   "cell_type": "code",
   "execution_count": 64,
   "metadata": {},
   "outputs": [],
   "source": [
    "imgPixels = []\n",
    "for i in range(0,28):\n",
    "    for j in range(0,28):\n",
    "        imgPixels.append(imgarr[i][j])\n"
   ]
  },
  {
   "cell_type": "code",
   "execution_count": 128,
   "metadata": {},
   "outputs": [
    {
     "data": {
      "image/png": "[encoded data removed]",
      "text/plain": [
       "<Figure size 432x288 with 1 Axes>"
      ]
     },
     "metadata": {},
     "output_type": "display_data"
    },
    {
     "name": "stdout",
     "output_type": "stream",
     "text": [
      "The image is probably a 5\n",
      "Time Taken to predict from model : 0.0 s\n"
     ]
    }
   ],
   "source": [
    "generatePixelsArray(\"img5.png\", clf)"
   ]
  }
 ],
 "metadata": {
  "kernelspec": {
   "display_name": "Python 2",
   "language": "python",
   "name": "python2"
  },
  "language_info": {
   "codemirror_mode": {
    "name": "ipython",
    "version": 2
   },
   "file_extension": ".py",
   "mimetype": "text/x-python",
   "name": "python",
   "nbconvert_exporter": "python",
   "pygments_lexer": "ipython2",
   "version": "2.7.14"
  }
 },
 "nbformat": 4,
 "nbformat_minor": 2
}
