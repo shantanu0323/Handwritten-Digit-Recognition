{
 "cells": [
  {
   "cell_type": "code",
   "execution_count": 16,
   "metadata": {},
   "outputs": [],
   "source": [
    "# -*- coding: utf-8 -*-\n",
    "\"\"\"\n",
    "Created on Sun Feb 25 10:26:27 2018\n",
    "\n",
    "@author: Shaan\n",
    "\"\"\"\n",
    "\n",
    "import matplotlib.pyplot as plt\n",
    "\n",
    "from sklearn.datasets import load_digits\n",
    "import pylab as pl\n",
    "import random\n",
    "from sklearn import ensemble\n",
    "from time import time"
   ]
  },
  {
   "cell_type": "code",
   "execution_count": 4,
   "metadata": {},
   "outputs": [],
   "source": [
    "digits = load_digits()"
   ]
  },
  {
   "cell_type": "code",
   "execution_count": 6,
   "metadata": {
    "scrolled": true
   },
   "outputs": [
    {
     "data": {
      "image/png": "[encoded data removed]",
      "text/plain": [
       "<Figure size 360x360 with 15 Axes>"
      ]
     },
     "metadata": {},
     "output_type": "display_data"
    }
   ],
   "source": [
    "# visualize first 15 images\n",
    "images_and_labels = list(zip(digits.images, digits.target))\n",
    "plt.figure(figsize=(5, 5))\n",
    "for index, (image, label) in enumerate(images_and_labels[:15]):\n",
    "    plt.subplot(3, 5, index + 1)\n",
    "    plt.axis('off')\n",
    "    plt.imshow(image, interpolation='nearest')\n",
    "    plt.title('%i' % label)\n"
   ]
  },
  {
   "cell_type": "code",
   "execution_count": 10,
   "metadata": {},
   "outputs": [],
   "source": [
    "# Define variables\n",
    "n_samples = len(digits.images)\n",
    "x = digits.images.reshape((n_samples, -1))\n",
    "y = digits.target"
   ]
  },
  {
   "cell_type": "code",
   "execution_count": 11,
   "metadata": {},
   "outputs": [],
   "source": [
    "# Create random indices\n",
    "sample_index = random.sample(range(len(x)), int(len(x) / 5))  # 20 - 80 split\n",
    "valid_index = [i for i in range(len(x)) if i not in sample_index]"
   ]
  },
  {
   "cell_type": "code",
   "execution_count": 12,
   "metadata": {},
   "outputs": [],
   "source": [
    "# Sample and validation images\n",
    "sample_images = [x[i] for i in sample_index]\n",
    "valid_images = [x[i] for i in valid_index]"
   ]
  },
  {
   "cell_type": "code",
   "execution_count": 13,
   "metadata": {},
   "outputs": [],
   "source": [
    "# Sample and validation targets\n",
    "sample_target = [y[i] for i in sample_index]\n",
    "valid_target = [y[i] for i in valid_index]"
   ]
  },
  {
   "cell_type": "code",
   "execution_count": 14,
   "metadata": {},
   "outputs": [],
   "source": [
    "# Using the Random Tree Classifier\n",
    "classifier = ensemble.RandomForestClassifier()"
   ]
  },
  {
   "cell_type": "code",
   "execution_count": 18,
   "metadata": {},
   "outputs": [
    {
     "name": "stdout",
     "output_type": "stream",
     "text": [
      "Time taken to train model : 0.0520000457764s\n"
     ]
    }
   ],
   "source": [
    "# Fit model with sample data\n",
    "t0 = time()\n",
    "classifier.fit(sample_images, sample_target)\n",
    "print (\"Time taken to train model : \" + str(time() - t0) + \"s\")"
   ]
  },
  {
   "cell_type": "code",
   "execution_count": 19,
   "metadata": {},
   "outputs": [
    {
     "name": "stdout",
     "output_type": "stream",
     "text": [
      "Random Tree Classifier: \n",
      "\n",
      "Score\t0.8769123783031989\n"
     ]
    }
   ],
   "source": [
    "# Attempt to predict validation data\n",
    "score = classifier.score(valid_images, valid_target)\n",
    "print('Random Tree Classifier: \\n')\n",
    "print('Score\\t' + str(score))"
   ]
  },
  {
   "cell_type": "code",
   "execution_count": 23,
   "metadata": {},
   "outputs": [
    {
     "data": {
      "text/plain": [
       "<Figure size 432x288 with 0 Axes>"
      ]
     },
     "metadata": {},
     "output_type": "display_data"
    },
    {
     "data": {
      "image/png": "[encoded data removed]",
      "text/plain": [
       "<Figure size 288x288 with 1 Axes>"
      ]
     },
     "metadata": {},
     "output_type": "display_data"
    },
    {
     "name": "stdout",
     "output_type": "stream",
     "text": [
      "[0]\n",
      "Time taken to predict from model : 0.00100016593933s\n"
     ]
    }
   ],
   "source": [
    "i = 160\n",
    "\n",
    "pl.gray()\n",
    "pl.matshow(digits.images[i])\n",
    "pl.show()\n",
    "t0 = time()\n",
    "print(classifier.predict([x[i]]))\n",
    "print (\"Time taken to predict from model : \" + str(time() - t0) + \"s\")"
   ]
  },
  {
   "cell_type": "code",
   "execution_count": null,
   "metadata": {},
   "outputs": [],
   "source": []
  }
 ],
 "metadata": {
  "kernelspec": {
   "display_name": "Python 2",
   "language": "python",
   "name": "python2"
  },
  "language_info": {
   "codemirror_mode": {
    "name": "ipython",
    "version": 2
   },
   "file_extension": ".py",
   "mimetype": "text/x-python",
   "name": "python",
   "nbconvert_exporter": "python",
   "pygments_lexer": "ipython2",
   "version": "2.7.14"
  }
 },
 "nbformat": 4,
 "nbformat_minor": 2
}
