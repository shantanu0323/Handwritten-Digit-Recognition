{
 "cells": [
  {
   "cell_type": "code",
   "execution_count": 12,
   "metadata": {},
   "outputs": [],
   "source": [
    "import numpy as np\n",
    "import matplotlib.pyplot as plt\n",
    "import pandas as pd\n",
    "from sklearn.neural_network import MLPClassifier\n",
    "from sklearn.neighbors import KNeighborsClassifier\n",
    "from sklearn.svm import SVC\n",
    "from sklearn.gaussian_process import GaussianProcessClassifier\n",
    "from sklearn.gaussian_process.kernels import RBF\n",
    "from sklearn.tree import DecisionTreeClassifier\n",
    "from sklearn.ensemble import RandomForestClassifier, AdaBoostClassifier\n",
    "from sklearn.naive_bayes import GaussianNB\n",
    "from sklearn.discriminant_analysis import QuadraticDiscriminantAnalysis\n",
    "from sklearn.metrics import accuracy_score\n",
    "from time import time"
   ]
  },
  {
   "cell_type": "code",
   "execution_count": 2,
   "metadata": {},
   "outputs": [],
   "source": [
    "classifiersNames = [\n",
    "    \"MLP classifier :\",\n",
    "    \"K Nearest Neighbour Classifier :\",\n",
    "    \"SVC :\",\n",
    "    \"DecisionTreeClassifier :\",\n",
    "    \"RandomForestClassifier :\",\n",
    "    \"AdaBoostClassifier :\",\n",
    "    \"GaussianNB :\"\n",
    "]\n",
    "\n",
    "classifiers = [\n",
    "    MLPClassifier(),\n",
    "    KNeighborsClassifier(),\n",
    "    SVC(),\n",
    "    DecisionTreeClassifier(),\n",
    "    RandomForestClassifier(),\n",
    "    AdaBoostClassifier(),\n",
    "    GaussianNB()\n",
    "]"
   ]
  },
  {
   "cell_type": "code",
   "execution_count": 3,
   "metadata": {},
   "outputs": [
    {
     "name": "stdout",
     "output_type": "stream",
     "text": [
      "Time taken to split data into training and testing data : 9.21900010109 s\n"
     ]
    }
   ],
   "source": [
    "# Training data\n",
    "t0 = time()\n",
    "train_data = pd.read_csv(\"train.csv\").as_matrix()\n",
    "xtrain = train_data[0:21000, 1:]\n",
    "train_label = train_data[0:21000, 0]\n",
    "\n",
    "# Testing data\n",
    "test_data = pd.read_csv(\"test.csv\").as_matrix()\n",
    "xtest = train_data[21000:, 1:]\n",
    "actual_label = train_data[21000:, 0]\n",
    "print (\"Time taken to split data into training and testing data : \" + str(time() - t0) + \" s\")"
   ]
  },
  {
   "cell_type": "code",
   "execution_count": 4,
   "metadata": {},
   "outputs": [],
   "source": [
    "acc_scores = []\n",
    "train_times = []\n",
    "pred_times = []"
   ]
  },
  {
   "cell_type": "code",
   "execution_count": 5,
   "metadata": {
    "scrolled": true
   },
   "outputs": [
    {
     "name": "stdout",
     "output_type": "stream",
     "text": [
      "MLP classifier :\n",
      "\tTime Taken to train model : 29.8009998798 s\n",
      "\tTime Taken to predict from model : 0.351999998093 s\n",
      "\tAccuracy : 93.55238095238096 %\n",
      "K Nearest Neighbour Classifier :\n",
      "\tTime Taken to train model : 3.01999998093 s\n",
      "\tTime Taken to predict from model : 782.357000113 s\n",
      "\tAccuracy : 95.95238095238095 %\n",
      "SVC :\n",
      "\tTime Taken to train model : 915.953999996 s\n",
      "\tTime Taken to predict from model : 447.877000093 s\n",
      "\tAccuracy : 11.00952380952381 %\n",
      "DecisionTreeClassifier :\n",
      "\tTime Taken to train model : 7.69799995422 s\n",
      "\tTime Taken to predict from model : 0.0889999866486 s\n",
      "\tAccuracy : 83.57619047619048 %\n",
      "RandomForestClassifier :\n",
      "\tTime Taken to train model : 1.81799983978 s\n",
      "\tTime Taken to predict from model : 0.177000045776 s\n",
      "\tAccuracy : 92.93809523809524 %\n",
      "AdaBoostClassifier :\n",
      "\tTime Taken to train model : 20.4769999981 s\n",
      "\tTime Taken to predict from model : 2.02399992943 s\n",
      "\tAccuracy : 69.44285714285714 %\n",
      "GaussianNB :\n",
      "\tTime Taken to train model : 0.616999864578 s\n",
      "\tTime Taken to predict from model : 2.90199995041 s\n",
      "\tAccuracy : 55.99047619047619 %\n"
     ]
    }
   ],
   "source": [
    "for clf in classifiers:\n",
    "    \n",
    "    print (classifiersNames[classifiers.index(clf)])\n",
    "       \n",
    "    t0 = time()\n",
    "    clf.fit(xtrain, train_label)\n",
    "    train_time = time() - t0\n",
    "    train_times.append(train_time)\n",
    "    print (\"\\tTime Taken to train model : \" + str(train_time) + \" s\")\n",
    "\n",
    "    # index = 85\n",
    "    # d = xtest[index]\n",
    "    # d.shape = (28, 28)\n",
    "    # pt.imshow(255 - d, cmap='gray')\n",
    "    # print(clf.predict([xtest[index]]))\n",
    "    # pt.show()\n",
    "\n",
    "    t0 = time()\n",
    "    pred_label = clf.predict(xtest)\n",
    "    pred_time = time() - t0\n",
    "    pred_times.append(pred_time)\n",
    "    print (\"\\tTime Taken to predict from model : \" + str(pred_time) + \" s\")\n",
    "    \n",
    "    score = accuracy_score(actual_label, pred_label)\n",
    "    score = score * 100\n",
    "    print(\"\\tAccuracy : \" + str(score) + \" %\")\n",
    "    acc_scores.append(score)"
   ]
  },
  {
   "cell_type": "code",
   "execution_count": 29,
   "metadata": {},
   "outputs": [
    {
     "data": {
      "text/plain": [
       "['MLP classifier',\n",
       " 'K Nearest Neighbour Classifier',\n",
       " 'SVC',\n",
       " 'DecisionTreeClassifier',\n",
       " 'RandomForestClassifier',\n",
       " 'AdaBoostClassifier',\n",
       " 'GaussianNB']"
      ]
     },
     "execution_count": 29,
     "metadata": {},
     "output_type": "execute_result"
    }
   ],
   "source": [
    "classNames = []\n",
    "for c in classifiersNames:\n",
    "    classNames.append(c[0: len(c) - 2])\n",
    "classNames"
   ]
  },
  {
   "cell_type": "code",
   "execution_count": 6,
   "metadata": {},
   "outputs": [
    {
     "data": {
      "text/plain": [
       "[93.55238095238096,\n",
       " 95.95238095238095,\n",
       " 11.00952380952381,\n",
       " 83.57619047619048,\n",
       " 92.93809523809524,\n",
       " 69.44285714285714,\n",
       " 55.99047619047619]"
      ]
     },
     "execution_count": 6,
     "metadata": {},
     "output_type": "execute_result"
    }
   ],
   "source": [
    "acc_scores"
   ]
  },
  {
   "cell_type": "code",
   "execution_count": 14,
   "metadata": {},
   "outputs": [],
   "source": [
    "def generate_plot(title, ticks, dataset, color_number):\n",
    "    colors = [\"slateblue\", \"mediumseagreen\", \"tomato\"]\n",
    "    plt.figure(figsize=(8, 6))\n",
    "    \n",
    "    ax = plt.subplot()    \n",
    "    ax.spines[\"top\"].set_visible(False)   \n",
    "    ax.spines[\"bottom\"].set_visible(False)\n",
    "    ax.spines[\"right\"].set_visible(False)\n",
    "    ax.spines[\"left\"].set_visible(False)\n",
    "    \n",
    "    ax.get_xaxis().tick_bottom()\n",
    "    ax.get_yaxis().tick_left() \n",
    "    \n",
    "    plt.xticks(np.arange(len(ticks)), ticks, fontsize=10, rotation=50)\n",
    "    plt.title(title, fontsize = 22)\n",
    "    plt.bar(ticks, dataset, linewidth=1.2, color=colors[color_number])"
   ]
  },
  {
   "cell_type": "code",
   "execution_count": 30,
   "metadata": {},
   "outputs": [
    {
     "data": {
      "image/png": "[encoded data removed]",
      "text/plain": [
       "<Figure size 576x432 with 1 Axes>"
      ]
     },
     "metadata": {},
     "output_type": "display_data"
    }
   ],
   "source": [
    "generate_plot(\"Accuracy Analysis\", classNames, acc_scores, 1)"
   ]
  },
  {
   "cell_type": "code",
   "execution_count": 16,
   "metadata": {},
   "outputs": [
    {
     "data": {
      "text/plain": [
       "[29.800999879837036,\n",
       " 3.0199999809265137,\n",
       " 915.9539999961853,\n",
       " 7.697999954223633,\n",
       " 1.8179998397827148,\n",
       " 20.47699999809265,\n",
       " 0.6169998645782471]"
      ]
     },
     "execution_count": 16,
     "metadata": {},
     "output_type": "execute_result"
    }
   ],
   "source": [
    "train_times"
   ]
  },
  {
   "cell_type": "code",
   "execution_count": 31,
   "metadata": {},
   "outputs": [
    {
     "data": {
      "image/png": "[encoded data removed]",
      "text/plain": [
       "<Figure size 576x432 with 1 Axes>"
      ]
     },
     "metadata": {},
     "output_type": "display_data"
    }
   ],
   "source": [
    "generate_plot(\"Training Analysis\", classNames, train_times, 0)"
   ]
  },
  {
   "cell_type": "code",
   "execution_count": 18,
   "metadata": {},
   "outputs": [
    {
     "data": {
      "text/plain": [
       "[0.35199999809265137,\n",
       " 782.3570001125336,\n",
       " 447.8770000934601,\n",
       " 0.08899998664855957,\n",
       " 0.1770000457763672,\n",
       " 2.0239999294281006,\n",
       " 2.9019999504089355]"
      ]
     },
     "execution_count": 18,
     "metadata": {},
     "output_type": "execute_result"
    }
   ],
   "source": [
    "pred_times"
   ]
  },
  {
   "cell_type": "code",
   "execution_count": 32,
   "metadata": {
    "scrolled": false
   },
   "outputs": [
    {
     "data": {
      "image/png": "[encoded data removed]",
      "text/plain": [
       "<Figure size 576x432 with 1 Axes>"
      ]
     },
     "metadata": {},
     "output_type": "display_data"
    }
   ],
   "source": [
    "generate_plot(\"Prediction Analysis\", classNames, pred_times, 2)"
   ]
  },
  {
   "cell_type": "code",
   "execution_count": 33,
   "metadata": {},
   "outputs": [],
   "source": [
    "analysisData = {\n",
    "    'Classifier-Used' : classNames,\n",
    "    'Time taken to Train' : train_times,\n",
    "    'Time taken to Predict' : pred_times,\n",
    "    'Accuracy achieved' : acc_scores\n",
    "}"
   ]
  },
  {
   "cell_type": "code",
   "execution_count": 34,
   "metadata": {},
   "outputs": [],
   "source": [
    "analysisDF = pd.DataFrame(data=analysisData)"
   ]
  },
  {
   "cell_type": "code",
   "execution_count": 35,
   "metadata": {},
   "outputs": [
    {
     "data": {
      "text/html": [
       "<div>\n",
       "<style scoped>\n",
       "    .dataframe tbody tr th:only-of-type {\n",
       "        vertical-align: middle;\n",
       "    }\n",
       "\n",
       "    .dataframe tbody tr th {\n",
       "        vertical-align: top;\n",
       "    }\n",
       "\n",
       "    .dataframe thead th {\n",
       "        text-align: right;\n",
       "    }\n",
       "</style>\n",
       "<table border=\"1\" class=\"dataframe\">\n",
       "  <thead>\n",
       "    <tr style=\"text-align: right;\">\n",
       "      <th></th>\n",
       "      <th>Accuracy achieved</th>\n",
       "      <th>Classifier-Used</th>\n",
       "      <th>Time taken to Predict</th>\n",
       "      <th>Time taken to Train</th>\n",
       "    </tr>\n",
       "  </thead>\n",
       "  <tbody>\n",
       "    <tr>\n",
       "      <th>0</th>\n",
       "      <td>93.552381</td>\n",
       "      <td>MLP classifier</td>\n",
       "      <td>0.352</td>\n",
       "      <td>29.801</td>\n",
       "    </tr>\n",
       "    <tr>\n",
       "      <th>1</th>\n",
       "      <td>95.952381</td>\n",
       "      <td>K Nearest Neighbour Classifier</td>\n",
       "      <td>782.357</td>\n",
       "      <td>3.020</td>\n",
       "    </tr>\n",
       "    <tr>\n",
       "      <th>2</th>\n",
       "      <td>11.009524</td>\n",
       "      <td>SVC</td>\n",
       "      <td>447.877</td>\n",
       "      <td>915.954</td>\n",
       "    </tr>\n",
       "    <tr>\n",
       "      <th>3</th>\n",
       "      <td>83.576190</td>\n",
       "      <td>DecisionTreeClassifier</td>\n",
       "      <td>0.089</td>\n",
       "      <td>7.698</td>\n",
       "    </tr>\n",
       "    <tr>\n",
       "      <th>4</th>\n",
       "      <td>92.938095</td>\n",
       "      <td>RandomForestClassifier</td>\n",
       "      <td>0.177</td>\n",
       "      <td>1.818</td>\n",
       "    </tr>\n",
       "    <tr>\n",
       "      <th>5</th>\n",
       "      <td>69.442857</td>\n",
       "      <td>AdaBoostClassifier</td>\n",
       "      <td>2.024</td>\n",
       "      <td>20.477</td>\n",
       "    </tr>\n",
       "    <tr>\n",
       "      <th>6</th>\n",
       "      <td>55.990476</td>\n",
       "      <td>GaussianNB</td>\n",
       "      <td>2.902</td>\n",
       "      <td>0.617</td>\n",
       "    </tr>\n",
       "  </tbody>\n",
       "</table>\n",
       "</div>"
      ],
      "text/plain": [
       "   Accuracy achieved                 Classifier-Used  Time taken to Predict  \\\n",
       "0          93.552381                  MLP classifier                  0.352   \n",
       "1          95.952381  K Nearest Neighbour Classifier                782.357   \n",
       "2          11.009524                             SVC                447.877   \n",
       "3          83.576190          DecisionTreeClassifier                  0.089   \n",
       "4          92.938095          RandomForestClassifier                  0.177   \n",
       "5          69.442857              AdaBoostClassifier                  2.024   \n",
       "6          55.990476                      GaussianNB                  2.902   \n",
       "\n",
       "   Time taken to Train  \n",
       "0               29.801  \n",
       "1                3.020  \n",
       "2              915.954  \n",
       "3                7.698  \n",
       "4                1.818  \n",
       "5               20.477  \n",
       "6                0.617  "
      ]
     },
     "execution_count": 35,
     "metadata": {},
     "output_type": "execute_result"
    }
   ],
   "source": [
    "analysisDF"
   ]
  },
  {
   "cell_type": "code",
   "execution_count": 37,
   "metadata": {},
   "outputs": [
    {
     "data": {
      "text/plain": [
       "array(['Accuracy achieved', 'Classifier-Used', 'Time taken to Predict',\n",
       "       'Time taken to Train'], dtype=object)"
      ]
     },
     "execution_count": 37,
     "metadata": {},
     "output_type": "execute_result"
    }
   ],
   "source": [
    "analysisDF.columns.values"
   ]
  },
  {
   "cell_type": "code",
   "execution_count": 39,
   "metadata": {},
   "outputs": [],
   "source": [
    "analysisDF = analysisDF[['Classifier-Used', 'Time taken to Predict', 'Time taken to Train','Accuracy achieved']]"
   ]
  },
  {
   "cell_type": "code",
   "execution_count": 40,
   "metadata": {},
   "outputs": [
    {
     "data": {
      "text/html": [
       "<div>\n",
       "<style scoped>\n",
       "    .dataframe tbody tr th:only-of-type {\n",
       "        vertical-align: middle;\n",
       "    }\n",
       "\n",
       "    .dataframe tbody tr th {\n",
       "        vertical-align: top;\n",
       "    }\n",
       "\n",
       "    .dataframe thead th {\n",
       "        text-align: right;\n",
       "    }\n",
       "</style>\n",
       "<table border=\"1\" class=\"dataframe\">\n",
       "  <thead>\n",
       "    <tr style=\"text-align: right;\">\n",
       "      <th></th>\n",
       "      <th>Classifier-Used</th>\n",
       "      <th>Time taken to Predict</th>\n",
       "      <th>Time taken to Train</th>\n",
       "      <th>Accuracy achieved</th>\n",
       "    </tr>\n",
       "  </thead>\n",
       "  <tbody>\n",
       "    <tr>\n",
       "      <th>0</th>\n",
       "      <td>MLP classifier</td>\n",
       "      <td>0.352</td>\n",
       "      <td>29.801</td>\n",
       "      <td>93.552381</td>\n",
       "    </tr>\n",
       "    <tr>\n",
       "      <th>1</th>\n",
       "      <td>K Nearest Neighbour Classifier</td>\n",
       "      <td>782.357</td>\n",
       "      <td>3.020</td>\n",
       "      <td>95.952381</td>\n",
       "    </tr>\n",
       "    <tr>\n",
       "      <th>2</th>\n",
       "      <td>SVC</td>\n",
       "      <td>447.877</td>\n",
       "      <td>915.954</td>\n",
       "      <td>11.009524</td>\n",
       "    </tr>\n",
       "    <tr>\n",
       "      <th>3</th>\n",
       "      <td>DecisionTreeClassifier</td>\n",
       "      <td>0.089</td>\n",
       "      <td>7.698</td>\n",
       "      <td>83.576190</td>\n",
       "    </tr>\n",
       "    <tr>\n",
       "      <th>4</th>\n",
       "      <td>RandomForestClassifier</td>\n",
       "      <td>0.177</td>\n",
       "      <td>1.818</td>\n",
       "      <td>92.938095</td>\n",
       "    </tr>\n",
       "    <tr>\n",
       "      <th>5</th>\n",
       "      <td>AdaBoostClassifier</td>\n",
       "      <td>2.024</td>\n",
       "      <td>20.477</td>\n",
       "      <td>69.442857</td>\n",
       "    </tr>\n",
       "    <tr>\n",
       "      <th>6</th>\n",
       "      <td>GaussianNB</td>\n",
       "      <td>2.902</td>\n",
       "      <td>0.617</td>\n",
       "      <td>55.990476</td>\n",
       "    </tr>\n",
       "  </tbody>\n",
       "</table>\n",
       "</div>"
      ],
      "text/plain": [
       "                  Classifier-Used  Time taken to Predict  Time taken to Train  \\\n",
       "0                  MLP classifier                  0.352               29.801   \n",
       "1  K Nearest Neighbour Classifier                782.357                3.020   \n",
       "2                             SVC                447.877              915.954   \n",
       "3          DecisionTreeClassifier                  0.089                7.698   \n",
       "4          RandomForestClassifier                  0.177                1.818   \n",
       "5              AdaBoostClassifier                  2.024               20.477   \n",
       "6                      GaussianNB                  2.902                0.617   \n",
       "\n",
       "   Accuracy achieved  \n",
       "0          93.552381  \n",
       "1          95.952381  \n",
       "2          11.009524  \n",
       "3          83.576190  \n",
       "4          92.938095  \n",
       "5          69.442857  \n",
       "6          55.990476  "
      ]
     },
     "execution_count": 40,
     "metadata": {},
     "output_type": "execute_result"
    }
   ],
   "source": [
    "analysisDF"
   ]
  },
  {
   "cell_type": "code",
   "execution_count": null,
   "metadata": {},
   "outputs": [],
   "source": []
  }
 ],
 "metadata": {
  "kernelspec": {
   "display_name": "Python 2",
   "language": "python",
   "name": "python2"
  },
  "language_info": {
   "codemirror_mode": {
    "name": "ipython",
    "version": 2
   },
   "file_extension": ".py",
   "mimetype": "text/x-python",
   "name": "python",
   "nbconvert_exporter": "python",
   "pygments_lexer": "ipython2",
   "version": "2.7.14"
  }
 },
 "nbformat": 4,
 "nbformat_minor": 2
}
